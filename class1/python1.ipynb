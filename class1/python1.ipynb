{
 "cells": [
  {
   "cell_type": "markdown",
   "metadata": {},
   "source": [
    "dfferent methods()\n"
   ]
  },
  {
   "cell_type": "code",
   "execution_count": null,
   "metadata": {},
   "outputs": [],
   "source": [
    "fname=\"bushra\"\n",
    "lname=\"khan\"\n",
    "full_name=\"MY NAME IS \"\n",
    "print(full_name.isupper())"
   ]
  },
  {
   "cell_type": "markdown",
   "metadata": {},
   "source": [
    "Listing In python\n"
   ]
  },
  {
   "cell_type": "code",
   "execution_count": null,
   "metadata": {},
   "outputs": [],
   "source": [
    "listing_method:str=[\"ratan lal\",\"chaman lal\",\"laal singh\"]\n",
    "\n",
    "print(listing_method)\n",
    "\n",
    "# del listing_method[0]\n",
    "# print(listing_method)\n",
    "\n",
    "#last_seen=listing_method.pop(2) \n",
    "#print(last_seen)\n",
    "\n",
    "#listing_method.remove(\"chaman lal\")\n",
    "#print(listing_method)\n",
    "\n",
    "listing_method.sort()\n",
    "\n",
    "print(\"here is sorted list method\",listing_method)\n",
    "\n",
    "listing_method.reverse()\n",
    "print(\"this is reverse method\",listing_method)\n",
    "\n",
    "\n"
   ]
  },
  {
   "cell_type": "markdown",
   "metadata": {},
   "source": [
    "looping in lists\n"
   ]
  },
  {
   "cell_type": "code",
   "execution_count": null,
   "metadata": {},
   "outputs": [],
   "source": [
    "listing_method:str=[\"ratan lal\",\"chaman lal\",\"laal singh\"]\n",
    "print(f\"{listing_method}are great names!\")\n",
    "\n",
    "\n",
    "for list in listing_method:\n",
    "    print(f\"{list.capitalize()} is great name \\n i want to know more names like you {list}!\")\n"
   ]
  },
  {
   "cell_type": "markdown",
   "metadata": {},
   "source": [
    "looping in listing"
   ]
  },
  {
   "cell_type": "code",
   "execution_count": null,
   "metadata": {},
   "outputs": [],
   "source": [
    "for value in range(1,10):\n",
    "    print(value)\n",
    "\n",
    "dimension=(0,10)\n",
    "print(dimension[0])\n",
    "print(dimension[1])"
   ]
  },
  {
   "cell_type": "markdown",
   "metadata": {},
   "source": [
    "IF Else conditions"
   ]
  },
  {
   "cell_type": "code",
   "execution_count": null,
   "metadata": {},
   "outputs": [],
   "source": [
    "cars:str=[\"audi\",\"bmw\"]\n",
    "for car in cars:\n",
    "    if car==\"bmw\":\n",
    "        print(car.upper())\n",
    "    else:\n",
    "        print(\"sorry\")"
   ]
  },
  {
   "cell_type": "markdown",
   "metadata": {},
   "source": [
    "if else chain"
   ]
  },
  {
   "cell_type": "code",
   "execution_count": null,
   "metadata": {},
   "outputs": [],
   "source": [
    "age = 15\n",
    "\n",
    "if age>12:\n",
    "    print(\"your age is greater than 12\")\n",
    "elif age<12:\n",
    "    print(\"your age is less than 12\")\n",
    "\n"
   ]
  },
  {
   "cell_type": "markdown",
   "metadata": {},
   "source": [
    "Dictionary\n"
   ]
  },
  {
   "cell_type": "code",
   "execution_count": null,
   "metadata": {},
   "outputs": [],
   "source": [
    "book={'color':'blue',\n",
    "      'pages':120,\n",
    "      }\n",
    "new_color=book['color']\n",
    "print(f'book color is {new_color}')\n",
    "\n",
    "book['author']=\"Bushra khan\"\n",
    "book['publisher']='gaba publisher'\n",
    "print(book)\n",
    "del book['publisher']\n",
    "print(book)\n",
    "\n",
    "# assignment\n",
    "\n",
    "info={\n",
    "    'fname':'Bushra',\n",
    "    'lname':'Khan',\n",
    "    'age':75,\n",
    "    'location':'karachi'\n",
    "}\n",
    "for key,value in info.items():\n",
    "    print(f\"\\n key:{key}\")\n",
    "    print(f\"values:{value}\")\n",
    "\n",
    "\n",
    "    \n",
    "\n"
   ]
  },
  {
   "cell_type": "markdown",
   "metadata": {},
   "source": [
    "loop in dictionary"
   ]
  },
  {
   "cell_type": "code",
   "execution_count": null,
   "metadata": {},
   "outputs": [],
   "source": [
    "fav_lang={\n",
    "'sarah':'c',\n",
    "'asad':'java',\n",
    "'mavia':'typscript',\n",
    "'zaid':'python'\n",
    "}\n",
    "for key,value in fav_lang.items():\n",
    "    print(f\"{key.title()}'s favorite programming language is {value.capitalize()} \")"
   ]
  },
  {
   "cell_type": "markdown",
   "metadata": {},
   "source": [
    "Dictionary in Dictionary"
   ]
  },
  {
   "cell_type": "code",
   "execution_count": null,
   "metadata": {},
   "outputs": [],
   "source": [
    "use={\n",
    "'Bushrakhan':{\n",
    "    'first_name':\"BUshra\",\n",
    "    'last_name':'Khan',\n",
    "    'age':55,\n",
    "    'gender':'female'\n",
    "},\n",
    "'Hirakhan':{\n",
    "    'first_name':\"Hira\",\n",
    "    'last_name':'Khan',\n",
    "    'age':25,\n",
    "    'gender':'female'\n",
    "}\n",
    "}\n",
    "for userName,user_info in use.items():\n",
    "    print(f'this is user name {userName.capitalize()}')\n",
    "    print(f'this is user info {user_info}')"
   ]
  },
  {
   "cell_type": "markdown",
   "metadata": {},
   "source": [
    "User Input"
   ]
  },
  {
   "cell_type": "code",
   "execution_count": null,
   "metadata": {},
   "outputs": [],
   "source": [
    "age=input('how old are you?')\n",
    "\n",
    "age=int(age)\n",
    "age>=18\n"
   ]
  },
  {
   "cell_type": "markdown",
   "metadata": {},
   "source": [
    "Calculator"
   ]
  },
  {
   "cell_type": "code",
   "execution_count": null,
   "metadata": {},
   "outputs": [],
   "source": [
    "user=input('please enter your name!')\n",
    "print(\"Hi!\",user)\n",
    "fnum=input('plz enter first number')\n",
    "fnum=int(fnum)\n",
    "print(fnum)\n",
    "\n",
    "\n"
   ]
  },
  {
   "cell_type": "markdown",
   "metadata": {},
   "source": [
    "Restaurant Seating: Write a program that asks the user how many people \n",
    "are in their dinner group. If the answer is more than eight, print a message saying they’ll have to wait for a table. Otherwise, \n",
    ", report that their table is ready."
   ]
  },
  {
   "cell_type": "code",
   "execution_count": null,
   "metadata": {},
   "outputs": [],
   "source": [
    "user =input(\"hello sir! how many people are in your dinner group?\")\n",
    "user = int(user)\n",
    "print(user)\n",
    "if user<8:\n",
    "    print(\"we have seat at the corner!\")\n",
    "elif user>=9:\n",
    "    print(\"sorry!\")"
   ]
  },
  {
   "cell_type": "markdown",
   "metadata": {},
   "source": [
    "The while Loop in Action\n"
   ]
  },
  {
   "cell_type": "markdown",
   "metadata": {},
   "source": [
    "FUNCTIONS!"
   ]
  },
  {
   "cell_type": "code",
   "execution_count": null,
   "metadata": {},
   "outputs": [],
   "source": [
    "def message(mess):\n",
    "    print(f\"hello i am learning {mess}\")\n",
    "message(\"python\")"
   ]
  },
  {
   "cell_type": "code",
   "execution_count": null,
   "metadata": {},
   "outputs": [],
   "source": [
    "def fav_book(book):\n",
    "    print(f\"My favorite book is {book.title()} \")\n",
    "fav_book(\"alice in wonderland\")"
   ]
  },
  {
   "cell_type": "code",
   "execution_count": null,
   "metadata": {},
   "outputs": [],
   "source": [
    "def info(name,age=55):\n",
    "    print(f\"hello {name.title()} I know you age i.e {age}\")\n",
    "info(\"Bushra\")"
   ]
  },
  {
   "cell_type": "markdown",
   "metadata": {},
   "source": [
    "LIST IN FUNCTIONS"
   ]
  },
  {
   "cell_type": "code",
   "execution_count": null,
   "metadata": {},
   "outputs": [],
   "source": [
    "def inner():\n",
    "    print(\"inner\")\n",
    "    inner()\n",
    "    def outer():\n",
    "        print(\"outer\")\n",
    "        outer()"
   ]
  },
  {
   "cell_type": "markdown",
   "metadata": {},
   "source": [
    "Tuple\n"
   ]
  },
  {
   "cell_type": "code",
   "execution_count": null,
   "metadata": {},
   "outputs": [],
   "source": [
    "names : list[str] = ['Sir Zia',\"Muhammad Qasim\",\"DR Noman\"]\n",
    "print( names) ##list\n",
    "\n",
    "\n",
    "for name in names:\n",
    "    print(\"welcome sir :\",name.title())\n",
    "\n",
    "\n",
    "tname:tuple=(\"bushra khan\",50,\"ali\",23)\n",
    "print(tname)\n",
    "\n",
    "for row in tname:\n",
    "    print(row)\n",
    "    \n",
    "\n",
    "\n"
   ]
  },
  {
   "cell_type": "markdown",
   "metadata": {},
   "source": [
    "Complicate Tuple\n"
   ]
  },
  {
   "cell_type": "code",
   "execution_count": null,
   "metadata": {},
   "outputs": [],
   "source": [
    "data_base:list[tuple[str,str]]=[(\"Bushra\",123),\n",
    "                                    (\"khan\",566)\n",
    "    ]\n",
    "\n",
    "input_user:str=input(\"enter User name!\")\n",
    "input_password:str=input(\"enter password!\")\n",
    "for row in data_base:\n",
    "        username,password=row\n",
    "\n",
    "        if input_user==username and input_password==password:\n",
    "                print(\"welcome dear user\",username)\n",
    "                break\n",
    "else:\n",
    "        print(\"invalid\")"
   ]
  },
  {
   "cell_type": "code",
   "execution_count": null,
   "metadata": {},
   "outputs": [],
   "source": [
    "data_base:list[tuple[str,str]]=[(\"ushra\",123),\n",
    "                                    (\"khan\",566)\n",
    "    ]\n",
    "\n",
    "input_user:str=input(\"enter User name!\")\n",
    "input_password:str=input(\"enter password!\")\n",
    "for row in data_base:\n",
    "        user ,password=row\n",
    "\n",
    "        if input_user==user and input_password==password:\n",
    "                print(f\"valid user {user}\")\n",
    "                break\n",
    "else:\n",
    "        print(\"invalid\")"
   ]
  },
  {
   "cell_type": "code",
   "execution_count": null,
   "metadata": {},
   "outputs": [],
   "source": []
  },
  {
   "cell_type": "markdown",
   "metadata": {},
   "source": [
    "SETS (is mai koi index of duplicate element nahi hota)"
   ]
  },
  {
   "cell_type": "code",
   "execution_count": null,
   "metadata": {},
   "outputs": [],
   "source": [
    "set={'a','b','c',1,2,3,5,2,'a'}\n",
    "print(set)"
   ]
  },
  {
   "cell_type": "markdown",
   "metadata": {},
   "source": [
    "dir function (value ki sari properties utha kr samny rakh deta hai)"
   ]
  },
  {
   "cell_type": "code",
   "execution_count": null,
   "metadata": {},
   "outputs": [],
   "source": [
    "\n",
    "print(dir())"
   ]
  },
  {
   "cell_type": "markdown",
   "metadata": {},
   "source": [
    "Lambda function anonymous function hota hai lambda fun k baad colan sy pehly parameter ata hai jis variable mai ye store hota hai us mai ek argument pass hota hai\n"
   ]
  },
  {
   "cell_type": "code",
   "execution_count": null,
   "metadata": {},
   "outputs": [],
   "source": [
    "#calc=lambda name:name\n",
    "#print(calc(\"bushra\"))\n",
    "square=lambda x:x*x\n",
    "print(square(10))"
   ]
  },
  {
   "cell_type": "markdown",
   "metadata": {},
   "source": [
    "map and filter\n",
    "jab hamai ek functionality list k sary items pr apply krni ho!!!"
   ]
  },
  {
   "cell_type": "code",
   "execution_count": null,
   "metadata": {},
   "outputs": [],
   "source": [
    "a=[x for x in range(1,20)]\n",
    "\n",
    "def new(y):\n",
    "    return y*10\n",
    "    \n",
    "new_list=list(map(new,a))\n",
    "print(new_list)\n",
    "\n"
   ]
  },
  {
   "cell_type": "code",
   "execution_count": null,
   "metadata": {},
   "outputs": [],
   "source": [
    "a=[x for x in range(1,20)]\n",
    "\n",
    "#MAP KI Jg FILTER KO USE KRK SPECIFIC DATA MILTA HAI\n",
    "    \n",
    "new_list=list(filter(lambda y:y<5,a))\n",
    "print(new_list)\n"
   ]
  },
  {
   "cell_type": "code",
   "execution_count": 24,
   "metadata": {},
   "outputs": [
    {
     "name": "stdout",
     "output_type": "stream",
     "text": [
      "[1, 2, 3, 4, 5, 6, 7, 8, 9, 10, 11, 12, 13, 14, 15, 16, 17, 18, 19]\n",
      "[21, 22, 23, 24, 25, 26, 27, 28, 29, 30, 31, 32, 33, 34, 35, 36, 37, 38, 39]\n",
      "[(1, 21), (2, 22), (3, 23), (4, 24), (5, 25), (6, 26), (7, 27), (8, 28), (9, 29), (10, 30), (11, 31), (12, 32), (13, 33), (14, 34), (15, 35), (16, 36), (17, 37), (18, 38), (19, 39)]\n"
     ]
    }
   ],
   "source": [
    "a=[x for x in range(1,20)]\n",
    "b=[x for x in range(21,40)]\n",
    "print(a)\n",
    "print(b)\n",
    "\n",
    "def new(x,y):\n",
    "    return x,y\n",
    "new_list=list(map(new,a,b))\n",
    "print(new_list)"
   ]
  },
  {
   "cell_type": "markdown",
   "metadata": {},
   "source": [
    "Try Except else finally\n"
   ]
  },
  {
   "cell_type": "code",
   "execution_count": 6,
   "metadata": {},
   "outputs": [
    {
     "name": "stdout",
     "output_type": "stream",
     "text": [
      "123\n",
      "code is working...\n",
      "#it will work all the time\n"
     ]
    }
   ],
   "source": [
    "x=123\n",
    "try:                           #it will run when code is correct\n",
    "    print(x)\n",
    "except:                        #it will run when when code is not correct\n",
    "    print(\"error...\")\n",
    "else:                           # when code wirking (when try will work)\n",
    "    print(\"code is working...\")\n",
    "finally:                           #it will work all the time\n",
    "    print(\"#it will work all the time\")"
   ]
  },
  {
   "cell_type": "markdown",
   "metadata": {},
   "source": [
    "mutable(builtin data type int, float, string,boolean it can be changed!) and immutable(sets,dic,list it cannot be changed! )"
   ]
  },
  {
   "cell_type": "code",
   "execution_count": 9,
   "metadata": {},
   "outputs": [
    {
     "name": "stdout",
     "output_type": "stream",
     "text": [
      "orignal bushra 2700715501360\n",
      "refrence khan 2700715494128\n"
     ]
    }
   ],
   "source": [
    "#mutable elaxmple mai reasign k baad id change hui\n",
    "a=\"bushra\"\n",
    "b=a\n",
    "b=\"khan\"\n",
    "print(\"orignal\",a,id(a))\n",
    "print(\"refrence\",b,id(b))"
   ]
  },
  {
   "cell_type": "code",
   "execution_count": 35,
   "metadata": {},
   "outputs": [
    {
     "name": "stdout",
     "output_type": "stream",
     "text": [
      "orignal ['bushra', 'khan'] 2700715645952\n",
      "refrence ['khan'] 2700715644672\n",
      "<class 'list'>\n"
     ]
    }
   ],
   "source": [
    "#immutable elaxmple mai reasign k baad id mai changes nahi hui\n",
    "a=[\"bushra\"]\n",
    "b=a\n",
    "b.append(\"khan\")\n",
    "b=[\"khan\"]   ###ab change hojaye ga qk hmnay nai value assign kardi ab wo naya object ban gaya \n",
    "print(\"orignal\",a,id(a))\n",
    "print(\"refrence\",b,id(b))\n",
    "print(type(a))"
   ]
  },
  {
   "cell_type": "markdown",
   "metadata": {},
   "source": [
    "zfill method() ye method zero ki jaga ko fill krta hai agr single digit hai tw zero pehly laga dega "
   ]
  },
  {
   "cell_type": "code",
   "execution_count": 44,
   "metadata": {},
   "outputs": [
    {
     "name": "stdout",
     "output_type": "stream",
     "text": [
      "05\n"
     ]
    }
   ],
   "source": [
    "a=\"5\"\n",
    "b=a.zfill(2)\n",
    "print(b)"
   ]
  },
  {
   "cell_type": "markdown",
   "metadata": {},
   "source": [
    "file handling \n",
    "open() method sy kaam krta hai \n",
    "syntax open(filepath,mode)\n",
    "mode:r ,a ,x ,w\n"
   ]
  },
  {
   "cell_type": "code",
   "execution_count": 54,
   "metadata": {},
   "outputs": [
    {
     "name": "stdout",
     "output_type": "stream",
     "text": [
      "he\n"
     ]
    }
   ],
   "source": [
    "# data =open(\"./file.txt\",\"r\") #creat connection\n",
    "# print(data.read())\n",
    "# print(data.readline())\n",
    "# print(data.read(2))\n",
    "# data.close() #close connection\n",
    "\n",
    "\n",
    "\n",
    "#in case we dont want to close code we use this method\n",
    "\n",
    "with open(\"./file.txt\",\"r\") as data:\n",
    "    print(data.read(2))\n"
   ]
  },
  {
   "cell_type": "markdown",
   "metadata": {},
   "source": [
    "append method in file handling append is usually use to writ something in data\n"
   ]
  },
  {
   "cell_type": "code",
   "execution_count": 56,
   "metadata": {},
   "outputs": [],
   "source": [
    "with open(\"./file.txt\",\"a\") as data:\n",
    "   data.write(\"\\n hello girl!\")\n",
    "\n",
    "\n",
    "   "
   ]
  },
  {
   "cell_type": "code",
   "execution_count": null,
   "metadata": {},
   "outputs": [],
   "source": []
  },
  {
   "cell_type": "markdown",
   "metadata": {},
   "source": [
    "write method in file handling is usually use to writ something in data mgr porana wala sub kuch remove hojayega!\n"
   ]
  },
  {
   "cell_type": "code",
   "execution_count": null,
   "metadata": {},
   "outputs": [],
   "source": [
    "with open(\"./file.txt\",\"w\") as data:\n",
    "   data.write(\"\\n hello girl!\")"
   ]
  },
  {
   "cell_type": "markdown",
   "metadata": {},
   "source": [
    "x method in file handling  is usually use to create new file and write somethng in it!\n"
   ]
  },
  {
   "cell_type": "code",
   "execution_count": 4,
   "metadata": {},
   "outputs": [
    {
     "ename": "FileExistsError",
     "evalue": "[Errno 17] File exists: './file1.txt'",
     "output_type": "error",
     "traceback": [
      "\u001b[1;31m---------------------------------------------------------------------------\u001b[0m",
      "\u001b[1;31mFileExistsError\u001b[0m                           Traceback (most recent call last)",
      "\u001b[1;32mc:\\Users\\C.z\\Desktop\\Python crash course\\class1\\python1.ipynb Cell 63\u001b[0m line \u001b[0;36m1\n\u001b[1;32m----> <a href='vscode-notebook-cell:/c%3A/Users/C.z/Desktop/Python%20crash%20course/class1/python1.ipynb#Y120sZmlsZQ%3D%3D?line=0'>1</a>\u001b[0m \u001b[39mwith\u001b[39;00m \u001b[39mopen\u001b[39m(\u001b[39m\"\u001b[39m\u001b[39m./file1.txt\u001b[39m\u001b[39m\"\u001b[39m,\u001b[39m\"\u001b[39m\u001b[39mx\u001b[39m\u001b[39m\"\u001b[39m) \u001b[39mas\u001b[39;00m data:\n\u001b[0;32m      <a href='vscode-notebook-cell:/c%3A/Users/C.z/Desktop/Python%20crash%20course/class1/python1.ipynb#Y120sZmlsZQ%3D%3D?line=1'>2</a>\u001b[0m    data\u001b[39m.\u001b[39mwrite(\u001b[39m\"\u001b[39m\u001b[39m\\n\u001b[39;00m\u001b[39m hello girl!\u001b[39m\u001b[39m\"\u001b[39m)\n",
      "File \u001b[1;32mc:\\Users\\C.z\\anaconda3\\Lib\\site-packages\\IPython\\core\\interactiveshell.py:286\u001b[0m, in \u001b[0;36m_modified_open\u001b[1;34m(file, *args, **kwargs)\u001b[0m\n\u001b[0;32m    279\u001b[0m \u001b[39mif\u001b[39;00m file \u001b[39min\u001b[39;00m {\u001b[39m0\u001b[39m, \u001b[39m1\u001b[39m, \u001b[39m2\u001b[39m}:\n\u001b[0;32m    280\u001b[0m     \u001b[39mraise\u001b[39;00m \u001b[39mValueError\u001b[39;00m(\n\u001b[0;32m    281\u001b[0m         \u001b[39mf\u001b[39m\u001b[39m\"\u001b[39m\u001b[39mIPython won\u001b[39m\u001b[39m'\u001b[39m\u001b[39mt let you open fd=\u001b[39m\u001b[39m{\u001b[39;00mfile\u001b[39m}\u001b[39;00m\u001b[39m by default \u001b[39m\u001b[39m\"\u001b[39m\n\u001b[0;32m    282\u001b[0m         \u001b[39m\"\u001b[39m\u001b[39mas it is likely to crash IPython. If you know what you are doing, \u001b[39m\u001b[39m\"\u001b[39m\n\u001b[0;32m    283\u001b[0m         \u001b[39m\"\u001b[39m\u001b[39myou can use builtins\u001b[39m\u001b[39m'\u001b[39m\u001b[39m open.\u001b[39m\u001b[39m\"\u001b[39m\n\u001b[0;32m    284\u001b[0m     )\n\u001b[1;32m--> 286\u001b[0m \u001b[39mreturn\u001b[39;00m io_open(file, \u001b[39m*\u001b[39margs, \u001b[39m*\u001b[39m\u001b[39m*\u001b[39mkwargs)\n",
      "\u001b[1;31mFileExistsError\u001b[0m: [Errno 17] File exists: './file1.txt'"
     ]
    }
   ],
   "source": [
    "with open(\"./file1.txt\",\"x\") as data:\n",
    "   data.write(\"\\n hello girl!\")\n"
   ]
  },
  {
   "cell_type": "code",
   "execution_count": 9,
   "metadata": {},
   "outputs": [
    {
     "name": "stdout",
     "output_type": "stream",
     "text": [
      "\n",
      " hello girl!\n",
      "14\n"
     ]
    },
    {
     "ename": "ValueError",
     "evalue": "I/O operation on closed file.",
     "output_type": "error",
     "traceback": [
      "\u001b[1;31m---------------------------------------------------------------------------\u001b[0m",
      "\u001b[1;31mValueError\u001b[0m                                Traceback (most recent call last)",
      "\u001b[1;32mc:\\Users\\C.z\\Desktop\\Python crash course\\class1\\python1.ipynb Cell 64\u001b[0m line \u001b[0;36m4\n\u001b[0;32m      <a href='vscode-notebook-cell:/c%3A/Users/C.z/Desktop/Python%20crash%20course/class1/python1.ipynb#Y121sZmlsZQ%3D%3D?line=1'>2</a>\u001b[0m    \u001b[39mprint\u001b[39m(data\u001b[39m.\u001b[39mread())\n\u001b[0;32m      <a href='vscode-notebook-cell:/c%3A/Users/C.z/Desktop/Python%20crash%20course/class1/python1.ipynb#Y121sZmlsZQ%3D%3D?line=2'>3</a>\u001b[0m    \u001b[39mprint\u001b[39m(data\u001b[39m.\u001b[39mtell())\n\u001b[1;32m----> <a href='vscode-notebook-cell:/c%3A/Users/C.z/Desktop/Python%20crash%20course/class1/python1.ipynb#Y121sZmlsZQ%3D%3D?line=3'>4</a>\u001b[0m data\u001b[39m.\u001b[39mseek(\u001b[39m5\u001b[39m)\n",
      "\u001b[1;31mValueError\u001b[0m: I/O operation on closed file."
     ]
    }
   ],
   "source": [
    "with open(\"./file1.txt\",\"r\") as data:\n",
    "   print(data.read())\n",
    "   print(data.tell())\n"
   ]
  },
  {
   "cell_type": "markdown",
   "metadata": {},
   "source": [
    "CLasses are the blue print , structure, template \n",
    "here is the simple example of class"
   ]
  },
  {
   "cell_type": "code",
   "execution_count": 15,
   "metadata": {},
   "outputs": [
    {
     "name": "stdout",
     "output_type": "stream",
     "text": [
      "120\n"
     ]
    }
   ],
   "source": [
    "class Employe:\n",
    "  number=120\n",
    "  pass\n",
    "p1=Employe()\n",
    "p2=Employe()\n",
    "p3=Employe()\n",
    "\n",
    "p1.name=\"Bushra khan\"\n",
    "p2.name=\"mahad khan\"\n",
    "p3.name=\"maheen khan\"\n",
    "\n",
    "\n",
    "print(p1.number)\n",
    "\n"
   ]
  },
  {
   "cell_type": "markdown",
   "metadata": {},
   "source": [
    "little advance of class\n",
    "The __init__() method 2 is a special method \n",
    "that Python runs automatically whenever we create a new instance based \n",
    "on the employ class\n",
    "The self parameter is required in the method definition, and \n",
    "it must come first, before the other parameters. It must be included in \n",
    "the definition because when Python calls this method later (to create an \n",
    "instance of employ), the method call will automatically pass the self argumen"
   ]
  },
  {
   "cell_type": "code",
   "execution_count": 2,
   "metadata": {},
   "outputs": [
    {
     "name": "stdout",
     "output_type": "stream",
     "text": [
      "p1 name is Bushra \n",
      " age is 50 \n",
      " salary is 4500 \n"
     ]
    },
    {
     "ename": "NameError",
     "evalue": "name 'Language' is not defined",
     "output_type": "error",
     "traceback": [
      "\u001b[1;31m---------------------------------------------------------------------------\u001b[0m",
      "\u001b[1;31mNameError\u001b[0m                                 Traceback (most recent call last)",
      "\u001b[1;32mc:\\Users\\C.z\\Desktop\\Python crash course\\class1\\python1.ipynb Cell 68\u001b[0m line \u001b[0;36m1\n\u001b[0;32m     <a href='vscode-notebook-cell:/c%3A/Users/C.z/Desktop/Python%20crash%20course/class1/python1.ipynb#Y124sZmlsZQ%3D%3D?line=11'>12</a>\u001b[0m p1\u001b[39m=\u001b[39mEmploye(\u001b[39m\"\u001b[39m\u001b[39mBushra\u001b[39m\u001b[39m\"\u001b[39m,\u001b[39m50\u001b[39m,\u001b[39m4500\u001b[39m)\n\u001b[0;32m     <a href='vscode-notebook-cell:/c%3A/Users/C.z/Desktop/Python%20crash%20course/class1/python1.ipynb#Y124sZmlsZQ%3D%3D?line=12'>13</a>\u001b[0m \u001b[39mprint\u001b[39m(\u001b[39mf\u001b[39m\u001b[39m\"\u001b[39m\u001b[39mp1 name is \u001b[39m\u001b[39m{\u001b[39;00mp1\u001b[39m.\u001b[39mname\u001b[39m}\u001b[39;00m\u001b[39m \u001b[39m\u001b[39m\\n\u001b[39;00m\u001b[39m age is \u001b[39m\u001b[39m{\u001b[39;00mp1\u001b[39m.\u001b[39mage\u001b[39m}\u001b[39;00m\u001b[39m \u001b[39m\u001b[39m\\n\u001b[39;00m\u001b[39m salary is \u001b[39m\u001b[39m{\u001b[39;00mp1\u001b[39m.\u001b[39msalary\u001b[39m}\u001b[39;00m\u001b[39m \u001b[39m\u001b[39m\"\u001b[39m)\n\u001b[1;32m---> <a href='vscode-notebook-cell:/c%3A/Users/C.z/Desktop/Python%20crash%20course/class1/python1.ipynb#Y124sZmlsZQ%3D%3D?line=13'>14</a>\u001b[0m p2\u001b[39m=\u001b[39mLanguage(\u001b[39m\"\u001b[39m\u001b[39mAli\u001b[39m\u001b[39m\"\u001b[39m)\n",
      "\u001b[1;31mNameError\u001b[0m: name 'Language' is not defined"
     ]
    }
   ],
   "source": [
    "class Employe:\n",
    "\n",
    " def __init__(self, name, age,salary):\n",
    "    self.name=name\n",
    "    self.age=age\n",
    "    self.salary=salary\n",
    "    class Language(Employe):\n",
    "      def show(self,language):\n",
    "        self.language=language\n",
    "        print(\"the default language is python\")\n",
    "\n",
    "\n",
    "p1=Employe(\"Bushra\",50,4500)\n",
    "print(f\"p1 name is {p1.name} \\n age is {p1.age} \\n salary is {p1.salary} \")\n",
    "p2=(\"Ali\")"
   ]
  },
  {
   "cell_type": "markdown",
   "metadata": {},
   "source": [
    "inheritance in classes"
   ]
  },
  {
   "cell_type": "markdown",
   "metadata": {},
   "source": [
    "NUMPY"
   ]
  },
  {
   "cell_type": "code",
   "execution_count": 1,
   "metadata": {},
   "outputs": [
    {
     "name": "stdout",
     "output_type": "stream",
     "text": [
      "Requirement already satisfied: numpy in c:\\users\\c.z\\anaconda3\\lib\\site-packages (1.24.3)Note: you may need to restart the kernel to use updated packages.\n",
      "\n"
     ]
    }
   ],
   "source": [
    "pip install numpy\n"
   ]
  },
  {
   "cell_type": "code",
   "execution_count": 7,
   "metadata": {},
   "outputs": [
    {
     "data": {
      "text/plain": [
       "array([1, 2, 3, 4, 5])"
      ]
     },
     "metadata": {},
     "output_type": "display_data"
    },
    {
     "data": {
      "text/plain": [
       "'this is size 5'"
      ]
     },
     "metadata": {},
     "output_type": "display_data"
    },
    {
     "data": {
      "text/plain": [
       "'this is dimension 1'"
      ]
     },
     "metadata": {},
     "output_type": "display_data"
    },
    {
     "data": {
      "text/plain": [
       "'this is shape   (5,)'"
      ]
     },
     "metadata": {},
     "output_type": "display_data"
    },
    {
     "data": {
      "text/plain": [
       "'this is type  int32'"
      ]
     },
     "metadata": {},
     "output_type": "display_data"
    },
    {
     "data": {
      "text/plain": [
       "'this is item size 4'"
      ]
     },
     "metadata": {},
     "output_type": "display_data"
    }
   ],
   "source": [
    "import numpy as np\n",
    "a=[1,2,3,4,5]\n",
    "my_arr=np.array(a)\n",
    "display(my_arr)\n",
    "\n",
    "display(f\"this is size {my_arr.size}\")\n",
    "display(f\"this is dimension {my_arr.ndim}\")\n",
    "display(f\"this is shape   {my_arr.shape}\")\n",
    "display(f\"this is type  {my_arr.dtype}\")\n",
    "display(f\"this is item size {my_arr.itemsize}\")"
   ]
  },
  {
   "cell_type": "markdown",
   "metadata": {},
   "source": [
    "Looping in numpy (Basically numpy kaam ko asaan karta hai wo python code jis ko sochny mai mushkil hai numpy ussy asan bana ta hai )"
   ]
  },
  {
   "cell_type": "code",
   "execution_count": 8,
   "metadata": {},
   "outputs": [
    {
     "data": {
      "text/plain": [
       "array([10, 20, 30, 40, 50])"
      ]
     },
     "execution_count": 8,
     "metadata": {},
     "output_type": "execute_result"
    }
   ],
   "source": [
    "import numpy as np\n",
    "a=[1,2,3,4,5]\n",
    "my_arr=np.array(a)\n",
    "\n",
    "test=my_arr*10\n",
    "test\n",
    "\n",
    "test1=my_arr[1:4]*20\n",
    "test1"
   ]
  },
  {
   "cell_type": "markdown",
   "metadata": {},
   "source": [
    "agar np.array mai single element hoga tw wo scalar hoga agr 2 3 elements hongy to vector hoga of array of array  ko matrix kahaingy matrix mai jitny no of aray hn woo rows and usk elements colume hngy"
   ]
  },
  {
   "cell_type": "code",
   "execution_count": 19,
   "metadata": {},
   "outputs": [
    {
     "data": {
      "text/plain": [
       "2"
      ]
     },
     "metadata": {},
     "output_type": "display_data"
    }
   ],
   "source": [
    "import numpy as np\n",
    "# my_arr=np.array(100) #(scalar)\n",
    "# my_arr\n",
    "# my_arr=np.array([10,20]) #(vector)\n",
    "#t my_arr\n",
    "my_arr=np.array([[10,20],[60,82]])   #matrix\n",
    "display(my_arr.ndim)"
   ]
  },
  {
   "cell_type": "markdown",
   "metadata": {},
   "source": [
    "arrange numpy"
   ]
  },
  {
   "cell_type": "code",
   "execution_count": 2,
   "metadata": {},
   "outputs": [
    {
     "data": {
      "text/plain": [
       "array([0, 1, 2, 3, 4, 5, 6, 7, 8, 9])"
      ]
     },
     "execution_count": 2,
     "metadata": {},
     "output_type": "execute_result"
    }
   ],
   "source": [
    "import numpy as np\n",
    "\n",
    "a=np.arange(10)\n",
    "a"
   ]
  },
  {
   "cell_type": "markdown",
   "metadata": {},
   "source": [
    "Reshape Numpy"
   ]
  },
  {
   "cell_type": "code",
   "execution_count": 9,
   "metadata": {},
   "outputs": [
    {
     "data": {
      "text/plain": [
       "array([[ 1,  2,  3,  4,  5],\n",
       "       [ 6,  7,  8,  9, 10]])"
      ]
     },
     "execution_count": 9,
     "metadata": {},
     "output_type": "execute_result"
    }
   ],
   "source": [
    "import numpy as np\n",
    "a=np.arange(1,11).reshape(2,5)\n",
    "a\n",
    "b=np.reshape(a,(2,5))   #two rows five colums\n",
    "b"
   ]
  },
  {
   "cell_type": "markdown",
   "metadata": {},
   "source": [
    "asarray method\n"
   ]
  },
  {
   "cell_type": "code",
   "execution_count": 11,
   "metadata": {},
   "outputs": [
    {
     "data": {
      "text/plain": [
       "array([1, 2, 3, 4, 5])"
      ]
     },
     "execution_count": 11,
     "metadata": {},
     "output_type": "execute_result"
    }
   ],
   "source": [
    "import numpy as np\n",
    "\n",
    "a=[1,2,3,4,5]\n",
    "\n",
    "arr=np.asarray(a)\n",
    "arr"
   ]
  }
 ],
 "metadata": {
  "kernelspec": {
   "display_name": "Python 3",
   "language": "python",
   "name": "python3"
  },
  "language_info": {
   "codemirror_mode": {
    "name": "ipython",
    "version": 3
   },
   "file_extension": ".py",
   "mimetype": "text/x-python",
   "name": "python",
   "nbconvert_exporter": "python",
   "pygments_lexer": "ipython3",
   "version": "3.11.5"
  }
 },
 "nbformat": 4,
 "nbformat_minor": 2
}
